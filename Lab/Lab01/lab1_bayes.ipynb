{
 "cells": [
  {
   "cell_type": "markdown",
   "metadata": {},
   "source": [
    "## 1. 糖尿病预测"
   ]
  },
  {
   "cell_type": "code",
   "execution_count": 50,
   "metadata": {},
   "outputs": [
    {
     "name": "stdout",
     "output_type": "stream",
     "text": [
      "pima-indians-diabetes.csv has 768 rows\n"
     ]
    }
   ],
   "source": [
    "import csv\n",
    "\n",
    "def loadCsv(filename):\n",
    "    \"\"\"读取数据并将所有数据转换成float型\"\"\"\n",
    "    \n",
    "    lines = csv.reader(open(filename, \"rt\")) # 每一行都是字符串组成列表\n",
    "    dataset = list(lines)\n",
    "    # print(dataset[0]) # 打印第一行\n",
    "    for i in range(len(dataset)):\n",
    "        dataset[i] = [ float(x) for x in dataset[i] ]\n",
    "    return dataset\n",
    "\n",
    "filename = \"pima-indians-diabetes.csv\"\n",
    "dataset = loadCsv(filename)\n",
    "print(\"%s has %d rows\" % (filename, len(dataset)))\n",
    "#print(dataset)"
   ]
  },
  {
   "cell_type": "code",
   "execution_count": 51,
   "metadata": {},
   "outputs": [
    {
     "name": "stdout",
     "output_type": "stream",
     "text": [
      "Split 5 rows into train with [[4], [1], [3]] and test with [[2], [5]]\n"
     ]
    }
   ],
   "source": [
    "import random\n",
    "\n",
    "def splitDataset(dataset, radio):\n",
    "    \"\"\"根据比例划分训练和开发数据集\"\"\"\n",
    "    \n",
    "    trainSize = int(len(dataset)*radio)\n",
    "    trainSet = []\n",
    "    copy = list(dataset)\n",
    "    while len(trainSet)<trainSize:\n",
    "        index = random.randrange(len(copy)) # 返回len内的随机数\n",
    "        trainSet.append(copy.pop(index)) # train:append; test:pop\n",
    "    return [trainSet, copy]\n",
    "\n",
    "dataset = [[1], [2], [3], [4], [5]]\n",
    "splitRatio = 0.67\n",
    "train, test = splitDataset(dataset, splitRatio)\n",
    "print('Split {0} rows into train with {1} and test with {2}'.format(len(dataset), train, test))"
   ]
  },
  {
   "cell_type": "code",
   "execution_count": 52,
   "metadata": {},
   "outputs": [
    {
     "name": "stdout",
     "output_type": "stream",
     "text": [
      "Separated instances: {1: [[1, 20, 1], [3, 22, 1]], 0: [[2, 21, 0]]}\n"
     ]
    }
   ],
   "source": [
    "def splitByClass(dataset):\n",
    "    \"\"\"根据类别划分数据\"\"\"\n",
    "    \n",
    "    seperated = {} # 用字典存储划分后的数据\n",
    "    for i in range(len(dataset)):\n",
    "        vector = dataset[i]\n",
    "        if (vector[-1] not in seperated):\n",
    "            seperated[vector[-1]] = []\n",
    "        seperated[vector[-1]].append(vector)\n",
    "    return seperated\n",
    "\n",
    "dataset = [[1,20,1], [2,21,0], [3,22,1]]\n",
    "separated = splitByClass(dataset)\n",
    "print('Separated instances: {0}'.format(separated))"
   ]
  },
  {
   "cell_type": "code",
   "execution_count": 62,
   "metadata": {},
   "outputs": [
    {
     "name": "stdout",
     "output_type": "stream",
     "text": [
      "Summary of [1, 2, 3, 4, 5]: mean=3.0, stdev=1.5811388300841898\n",
      "Attribute summaries: [(2.0, 1.0), (21.0, 1.0)]\n"
     ]
    }
   ],
   "source": [
    "import math\n",
    "\n",
    "def mean(numbers):\n",
    "    \"\"\"计算均值\"\"\"\n",
    "    \n",
    "    return sum(numbers) / float(len(numbers))\n",
    "\n",
    "def stddev(numbers):\n",
    "    \"\"\"计算标准差\"\"\"\n",
    "    \n",
    "    avg = mean(numbers)\n",
    "    var = sum([pow(x-avg, 2) for x in numbers]) / float(len(numbers)-1)\n",
    "    return math.sqrt(var)\n",
    "\n",
    "def summarize(dataset):\n",
    "    \"\"\"计算每个属性的均值和标准差\n",
    "    \n",
    "    parameters:\n",
    "        dataset -- 2维列表，shape=(size, feature)\n",
    "    return:\n",
    "        summaries -- 元组列表，每一个元素是1个元组\n",
    "    \"\"\"\n",
    "    \n",
    "    summaries = [ (mean(attr), stddev(attr)) for attr in zip(*dataset) ] # zip(*)表示自身连接\n",
    "    del summaries[-1] # 删除最后一项\n",
    "    return summaries\n",
    "\n",
    "numbers = [1,2,3,4,5]\n",
    "print('Summary of {0}: mean={1}, stdev={2}'.format(numbers, mean(numbers), stddev(numbers)))\n",
    "dataset = [[1,20,0], [2,21,1], [3,22,0]]\n",
    "summary = summarize(dataset)\n",
    "print('Attribute summaries: {0}'.format(summary))"
   ]
  },
  {
   "cell_type": "code",
   "execution_count": 54,
   "metadata": {},
   "outputs": [
    {
     "name": "stdout",
     "output_type": "stream",
     "text": [
      "Summary by class value: {1: [(2.0, 1.4142135623730951), (21.0, 1.4142135623730951)], 0: [(3.0, 1.4142135623730951), (21.5, 0.7071067811865476)]}\n"
     ]
    }
   ],
   "source": [
    "def summarizeByClass(dataset):\n",
    "    \"\"\"按类别提取属性特征\n",
    "    \n",
    "    return:\n",
    "        summaries: dict, key是类别，value是对应的特征的均值和标准差,此处应完成对于特征的提取\n",
    "    \"\"\"\n",
    "    \n",
    "    seperated = splitByClass(dataset) # dict: key---类别  value---特征\n",
    "    summaries = {}\n",
    "    for k, v in seperated.items():\n",
    "        summaries[k] = summarize(v)\n",
    "    return summaries\n",
    "\n",
    "dataset = [[1,20,1], [2,21,0], [3,22,1], [4,22,0]]\n",
    "summary = summarizeByClass(dataset)\n",
    "print('Summary by class value: {0}'.format(summary))"
   ]
  },
  {
   "cell_type": "code",
   "execution_count": 55,
   "metadata": {},
   "outputs": [
    {
     "name": "stdout",
     "output_type": "stream",
     "text": [
      "Probability of belonging to this class: 0.06248965759370005\n"
     ]
    }
   ],
   "source": [
    "def calGsProb(x, mean, stddev):\n",
    "    \"\"\"计算高斯密度函数，即某个特征属于某个类的条件概率\"\"\"\n",
    "    \n",
    "    e = math.exp(-math.pow(x-mean, 2) / (2*math.pow(stddev, 2)))\n",
    "    return (1 / (math.sqrt(2*math.pi) * stddev) * e)\n",
    "\n",
    "x = 71.5\n",
    "mean = 73\n",
    "stdev = 6.2\n",
    "probability = calGsProb(x, mean, stdev)\n",
    "print('Probability of belonging to this class: {0}'.format(probability))"
   ]
  },
  {
   "cell_type": "code",
   "execution_count": 56,
   "metadata": {},
   "outputs": [
    {
     "name": "stdout",
     "output_type": "stream",
     "text": [
      "Probabilities for each class: {0: 0.7820853879509118, 1: 6.298736258150442e-05}\n"
     ]
    }
   ],
   "source": [
    "def calClassProb(summaries, inputVector):\n",
    "    \"\"\"计算多个特征对应某个类的条件概率\n",
    "    \n",
    "    parameters:\n",
    "        summaries -- dict，存储类别对应的均值和标准差\n",
    "        inputVector -- 输入向量，代表数据，包含类别属性\n",
    "    return:\n",
    "        prob -- 多个特征对应某个类的条件概率\n",
    "    \"\"\"\n",
    "    \n",
    "    prob = {}\n",
    "    for cvalue, csummaries in summaries.items():\n",
    "        prob[cvalue] = 1\n",
    "        for i in range(len(csummaries)):\n",
    "            mean, stddev = csummaries[i]\n",
    "            x = inputVector[i]\n",
    "            prob[cvalue] *= calGsProb(x, mean, stddev)\n",
    "    return prob\n",
    "\n",
    "summaries = {0:[(1, 0.5)], 1:[(20, 5.0)]}\n",
    "inputVector = [1.1, '?']\n",
    "probabilities = calClassProb(summaries, inputVector)\n",
    "print('Probabilities for each class: {0}'.format(probabilities))"
   ]
  },
  {
   "cell_type": "code",
   "execution_count": 57,
   "metadata": {},
   "outputs": [
    {
     "name": "stdout",
     "output_type": "stream",
     "text": [
      "Prediction: A\n"
     ]
    }
   ],
   "source": [
    "def predict(summaries, inputVector):\n",
    "    \"\"\"对单个样本进行预测\n",
    "    \n",
    "    parameters:\n",
    "        summaries -- dict，存储类别对应的均值和标准差\n",
    "        inputVector -- 输入向量，代表数据，包含类别属性\n",
    "    return:\n",
    "        bestlabel -- 返回概率最大的类别\n",
    "    \"\"\"\n",
    "    \n",
    "    prob = calClassProb(summaries, inputVector)\n",
    "    bestlabel, bestprob = None, -1\n",
    "    for cv, p in prob.items():\n",
    "        if bestlabel is None or p>bestprob:\n",
    "            bestlabel = cv\n",
    "            bestprob = p\n",
    "    return bestlabel\n",
    "\n",
    "summaries = {'A':[(1, 0.5)], 'B':[(20, 5.0)]} # 只有一个特征维度\n",
    "inputVector = [1.1, '?']\n",
    "result = predict(summaries, inputVector)\n",
    "print('Prediction: {0}'.format(result))"
   ]
  },
  {
   "cell_type": "code",
   "execution_count": 58,
   "metadata": {},
   "outputs": [
    {
     "name": "stdout",
     "output_type": "stream",
     "text": [
      "Predictions: ['A', 'B']\n"
     ]
    }
   ],
   "source": [
    "def getPredictions(summaries, testSet):\n",
    "    \"\"\"对多个样本进行预测\"\"\"\n",
    "    \n",
    "    predictions = []\n",
    "    for i in range(len(testSet)):\n",
    "        result = predict(summaries, testSet[i])\n",
    "        predictions.append(result)\n",
    "    return predictions\n",
    "\n",
    "summaries = {'A':[(1, 0.5)], 'B':[(20, 5.0)]}\n",
    "testSet = [[1.1, '?'], [19.1, '?']]\n",
    "predictions = getPredictions(summaries, testSet)\n",
    "print('Predictions: {0}'.format(predictions))"
   ]
  },
  {
   "cell_type": "code",
   "execution_count": 59,
   "metadata": {},
   "outputs": [
    {
     "name": "stdout",
     "output_type": "stream",
     "text": [
      "Accuracy: 66.66666666666666\n"
     ]
    }
   ],
   "source": [
    "def getAcc(testSet, predictions):\n",
    "    \"\"\"计算预测正确率\"\"\"\n",
    "    \n",
    "    correct = 0\n",
    "    for i in range(len(testSet)):\n",
    "        if testSet[i][-1] == predictions[i]:\n",
    "            correct += 1\n",
    "    return (correct / float(len(testSet)))*100\n",
    "\n",
    "testSet = [[1,1,1,'a'], [2,2,2,'a'], [3,3,3,'b']]\n",
    "predictions = ['a', 'a', 'a']\n",
    "accuracy = getAcc(testSet, predictions)\n",
    "print('Accuracy: {0}'.format(accuracy))"
   ]
  },
  {
   "cell_type": "code",
   "execution_count": 71,
   "metadata": {},
   "outputs": [
    {
     "name": "stdout",
     "output_type": "stream",
     "text": [
      "trainSet has 614 data\n",
      "testSet has 154 data\n",
      "Accuracy is 79%\n"
     ]
    }
   ],
   "source": [
    "import csv\n",
    "import random\n",
    "import math\n",
    "\n",
    "def loadCsv(filename):\n",
    "    \"\"\"读取数据并将所有数据转换成float型\"\"\"\n",
    "    \n",
    "    lines = csv.reader(open(filename, \"rt\")) # 每一行都是字符串组成列表\n",
    "    dataset = list(lines)\n",
    "    # print(dataset[0]) # 打印第一行\n",
    "    for i in range(len(dataset)):\n",
    "        dataset[i] = [ float(x) for x in dataset[i] ]\n",
    "    return dataset\n",
    "\n",
    "def splitDataset(dataset, radio):\n",
    "    \"\"\"根据比例划分训练和开发数据集\"\"\"\n",
    "    \n",
    "    trainSize = int(len(dataset)*radio)\n",
    "    trainSet = []\n",
    "    copy = list(dataset)\n",
    "    while len(trainSet)<trainSize:\n",
    "        index = random.randrange(len(copy)) # 返回len内的随机数\n",
    "        trainSet.append(copy.pop(index)) # train:append; test:pop\n",
    "    return [trainSet, copy]\n",
    "\n",
    "def splitByClass(dataset):\n",
    "    \"\"\"根据类别划分数据\"\"\"\n",
    "    \n",
    "    seperated = {} # 用字典存储划分后的数据\n",
    "    for i in range(len(dataset)):\n",
    "        vector = dataset[i]\n",
    "        if (vector[-1] not in seperated):\n",
    "            seperated[vector[-1]] = []\n",
    "        seperated[vector[-1]].append(vector)\n",
    "    return seperated\n",
    "\n",
    "def mean(numbers):\n",
    "    \"\"\"计算均值\"\"\"\n",
    "    \n",
    "    return sum(numbers) / float(len(numbers))\n",
    "\n",
    "def stddev(numbers):\n",
    "    \"\"\"计算标准差\"\"\"\n",
    "    \n",
    "    avg = mean(numbers)\n",
    "    var = sum([pow(x-avg, 2) for x in numbers]) / float(len(numbers)-1)\n",
    "    return math.sqrt(var)\n",
    "\n",
    "def summarize(dataset):\n",
    "    \"\"\"计算每个属性的均值和标准差\n",
    "    \n",
    "    parameters:\n",
    "        dataset -- 2维列表，shape=(size, feature)\n",
    "    return:\n",
    "        summaries -- 元组列表，每一个元素是1个元组\n",
    "    \"\"\"\n",
    "    \n",
    "    summaries = [ (mean(attr), stddev(attr)) for attr in zip(*dataset) ] # zip(*)表示自身连接\n",
    "    del summaries[-1] # 删除最后一项\n",
    "    return summaries\n",
    "\n",
    "def summarizeByClass(dataset):\n",
    "    \"\"\"按类别提取属性特征\n",
    "    \n",
    "    return:\n",
    "        summaries: dict, key是类别，value是对应的特征的均值和标准差,此处应完成对于特征的提取\n",
    "    \"\"\"\n",
    "    \n",
    "    seperated = splitByClass(dataset) # dict: key---类别  value---特征\n",
    "    summaries = {}\n",
    "    for k, v in seperated.items():\n",
    "        summaries[k] = summarize(v)\n",
    "    return summaries\n",
    "\n",
    "def calGsProb(x, mean, stddev):\n",
    "    \"\"\"计算高斯密度函数，即某个特征属于某个类的条件概率\"\"\"\n",
    "    \n",
    "    e = math.exp(-math.pow(x-mean, 2) / (2*math.pow(stddev, 2)))\n",
    "    return (1 / (math.sqrt(2*math.pi) * stddev) * e)\n",
    "\n",
    "def calClassProb(summaries, inputVector):\n",
    "    \"\"\"计算多个特征对应某个类的条件概率\n",
    "    \n",
    "    parameters:\n",
    "        summaries -- dict，存储类别对应的均值和标准差\n",
    "        inputVector -- 输入向量，代表数据，包含类别属性\n",
    "    return:\n",
    "        prob -- 多个特征对应某个类的条件概率\n",
    "    \"\"\"\n",
    "    \n",
    "    prob = {}\n",
    "    for cvalue, csummaries in summaries.items():\n",
    "        prob[cvalue] = 1\n",
    "        for i in range(len(csummaries)):\n",
    "            mean, stddev = csummaries[i]\n",
    "            x = inputVector[i]\n",
    "            prob[cvalue] *= calGsProb(x, mean, stddev)\n",
    "    return prob\n",
    "\n",
    "def predict(summaries, inputVector):\n",
    "    \"\"\"对单个样本进行预测\n",
    "    \n",
    "    parameters:\n",
    "        summaries -- dict，存储类别对应的均值和标准差\n",
    "        inputVector -- 输入向量，代表数据，包含类别属性\n",
    "    return:\n",
    "        bestlabel -- 返回概率最大的类别\n",
    "    \"\"\"\n",
    "    \n",
    "    prob = calClassProb(summaries, inputVector)\n",
    "    bestlabel, bestprob = None, -1\n",
    "    for cv, p in prob.items():\n",
    "        if bestlabel is None or p>bestprob:\n",
    "            bestlabel = cv\n",
    "            bestprob = p\n",
    "    return bestlabel\n",
    "\n",
    "def getPredictions(summaries, testSet):\n",
    "    \"\"\"对多个样本进行预测\"\"\"\n",
    "    \n",
    "    predictions = []\n",
    "    for i in range(len(testSet)):\n",
    "        result = predict(summaries, testSet[i])\n",
    "        predictions.append(result)\n",
    "    return predictions\n",
    "\n",
    "def getAcc(testSet, predictions):\n",
    "    \"\"\"计算预测正确率\"\"\"\n",
    "    \n",
    "    correct = 0\n",
    "    for i in range(len(testSet)):\n",
    "        if testSet[i][-1] == predictions[i]:\n",
    "            correct += 1\n",
    "    return (correct / float(len(testSet)))*100\n",
    "\n",
    "filename = 'pima-indians-diabetes.csv'\n",
    "dataset = loadCsv(filename)\n",
    "radio = 0.8\n",
    "trainSet, testSet = splitDataset(dataset, radio)\n",
    "print(\"trainSet has %d data\\ntestSet has %d data\" %(len(trainSet), len(testSet)))\n",
    "# 准备模型\n",
    "model = summarizeByClass(trainSet)\n",
    "# 预测\n",
    "pred = getPredictions(model, testSet)\n",
    "acc = getAcc(testSet, pred)\n",
    "print(\"Accuracy is %d%%\" % acc)"
   ]
  },
  {
   "cell_type": "markdown",
   "metadata": {},
   "source": [
    "## 2. 红酒预测"
   ]
  },
  {
   "cell_type": "markdown",
   "metadata": {},
   "source": [
    "### 所有属性都是连续的，每个特征维度表示：    \n",
    "- 0) 类别\n",
    "- 1）酒精\n",
    "- 2）苹果酸\n",
    "- 3）灰\n",
    "- 4）灰分的碱度  \n",
    "- 5）镁\n",
    "- 6）总酚\n",
    "- 7）类黄酮\n",
    "- 8）非黄烷类酚\n",
    "- 9）原花青素\n",
    "- 10）颜色强度\n",
    "- 11）色调\n",
    "- 12）稀释葡萄酒的OD280 / OD315\n",
    "- 13）脯氨酸  \n",
    "样本分布:\n",
    "- 1级59个  \n",
    "- 2级71个  \n",
    "- 3级48个  "
   ]
  },
  {
   "cell_type": "code",
   "execution_count": 72,
   "metadata": {},
   "outputs": [
    {
     "name": "stdout",
     "output_type": "stream",
     "text": [
      "trainSet has 142 data\n",
      "testSet has 36 data\n",
      "Accuracy is 94%\n"
     ]
    }
   ],
   "source": [
    "import csv\n",
    "import random\n",
    "import math\n",
    "\n",
    "def loadCsv(filename):\n",
    "    \"\"\"读取数据并将所有数据转换成float型\n",
    "    return:\n",
    "        dataset -- 二维数组，shape=(size, feature)\n",
    "    \"\"\"\n",
    "    \n",
    "    lines = csv.reader(open(filename, \"rt\")) # 每一行都是字符串组成列表\n",
    "    dataset = list(lines)\n",
    "    for i in range(len(dataset)):\n",
    "        dataset[i] = [ float(x) for x in dataset[i] ]\n",
    "    return dataset\n",
    "\n",
    "def splitDataset(dataset, radio):\n",
    "    \"\"\"根据比例划分训练和开发数据集\n",
    "    \n",
    "    return:\n",
    "        trainSet -- 训练集\n",
    "        copy -- 验证集\n",
    "    \"\"\"\n",
    "    \n",
    "    trainSize = int(len(dataset)*radio)\n",
    "    trainSet = []\n",
    "    copy = list(dataset)\n",
    "    while len(trainSet)<trainSize:\n",
    "        index = random.randrange(len(copy)) # 返回len内的随机数\n",
    "        trainSet.append(copy.pop(index)) # train:append; test:pop\n",
    "    return [trainSet, copy]\n",
    "\n",
    "def splitByClass(dataset):\n",
    "    \"\"\"根据类别划分数据\n",
    "    \n",
    "    return:\n",
    "        seperated -- dict，key是类别，value是对应的数据,shape=(size, feature)\n",
    "    \"\"\"\n",
    "    \n",
    "    seperated = {} # 用字典存储划分后的数据\n",
    "    for i in range(len(dataset)):\n",
    "        vector = dataset[i]\n",
    "        if (vector[0] not in seperated):\n",
    "            seperated[vector[0]] = []\n",
    "        seperated[vector[0]].append(vector)\n",
    "    return seperated\n",
    "\n",
    "def mean(numbers):\n",
    "    \"\"\"计算均值\"\"\"\n",
    "    \n",
    "    return sum(numbers) / float(len(numbers))\n",
    "\n",
    "def stddev(numbers):\n",
    "    \"\"\"计算标准差\"\"\"\n",
    "    \n",
    "    avg = mean(numbers)\n",
    "    var = sum([pow(x-avg, 2) for x in numbers]) / float(len(numbers)-1)\n",
    "    return math.sqrt(var)\n",
    "\n",
    "def summarize(dataset):\n",
    "    \"\"\"计算每个属性的均值和标准差\n",
    "    \n",
    "    parameters:\n",
    "        dataset -- 2维列表，shape=(size, feature)\n",
    "    return:\n",
    "        summaries -- 元组列表，每一个元素是1个元组\n",
    "    \"\"\"\n",
    "    \n",
    "    summaries = [ (mean(attr), stddev(attr)) for attr in zip(*dataset) ] # zip(*)表示自身连接\n",
    "    del summaries[0] # 删除第一项\n",
    "    return summaries\n",
    "\n",
    "def summarizeByClass(dataset):\n",
    "    \"\"\"按类别提取属性特征\n",
    "    \n",
    "    return:\n",
    "        summaries: dict, key是类别，value是对应的特征的均值和标准差,此处应完成对于特征的提取\n",
    "    \"\"\"\n",
    "    \n",
    "    seperated = splitByClass(dataset) # dict: key---类别  value---特征\n",
    "    summaries = {}\n",
    "    for k, v in seperated.items():\n",
    "        summaries[k] = summarize(v)\n",
    "    return summaries\n",
    "\n",
    "def calGsProb(x, mean, stddev):\n",
    "    \"\"\"计算高斯密度函数，即某个特征属于某个类的条件概率\"\"\"\n",
    "    \n",
    "    e = math.exp(-math.pow(x-mean, 2) / (2*math.pow(stddev, 2)))\n",
    "    return (1 / (math.sqrt(2*math.pi) * stddev) * e)\n",
    "\n",
    "def calClassProb(summaries, inputVector):\n",
    "    \"\"\"计算多个特征对应某个类的条件概率\n",
    "    \n",
    "    parameters:\n",
    "        summaries -- dict，存储类别对应的均值和标准差\n",
    "        inputVector -- 输入向量，代表数据，包含类别属性\n",
    "    return:\n",
    "        prob -- 多个特征对应某个类的条件概率\n",
    "    \"\"\"\n",
    "    \n",
    "    prob = {}\n",
    "    for cvalue, csummaries in summaries.items():\n",
    "        prob[cvalue] = 1\n",
    "        for i in range(len(csummaries)):\n",
    "            mean, stddev = csummaries[i]\n",
    "            x = inputVector[i+1] # 此处应+1，因为第一个维度是类别\n",
    "            prob[cvalue] *= calGsProb(x, mean, stddev)\n",
    "    return prob\n",
    "\n",
    "def predict(summaries, inputVector):\n",
    "    \"\"\"对单个样本进行预测\n",
    "    \n",
    "    parameters:\n",
    "        summaries -- dict，存储类别对应的均值和标准差\n",
    "        inputVector -- 输入向量，代表数据，包含类别属性\n",
    "    return:\n",
    "        bestlabel -- 返回概率最大的类别\n",
    "    \"\"\"\n",
    "    \n",
    "    prob = calClassProb(summaries, inputVector)\n",
    "    bestlabel, bestprob = None, -1\n",
    "    for cv, p in prob.items():\n",
    "        if bestlabel is None or p>bestprob:\n",
    "            bestlabel = cv\n",
    "            bestprob = p\n",
    "    return bestlabel\n",
    "\n",
    "def getPredictions(summaries, testSet):\n",
    "    \"\"\"对多个样本进行预测\"\"\"\n",
    "    \n",
    "    predictions = []\n",
    "    for i in range(len(testSet)):\n",
    "        result = predict(summaries, testSet[i])\n",
    "        predictions.append(result)\n",
    "    return predictions\n",
    "\n",
    "def getAcc(testSet, predictions):\n",
    "    \"\"\"计算预测正确率\"\"\"\n",
    "    \n",
    "    correct = 0\n",
    "    for i in range(len(testSet)):\n",
    "        if testSet[i][0] == predictions[i]: # 此处应更改\n",
    "            correct += 1\n",
    "    return (correct / float(len(testSet)))*100\n",
    "\n",
    "filename = \"wine.csv\"\n",
    "dataset = loadCsv(filename)\n",
    "radio = 0.8\n",
    "trainSet, testSet = splitDataset(dataset, radio)\n",
    "print(\"trainSet has %d data\\ntestSet has %d data\" %(len(trainSet), len(testSet)))\n",
    "model = summarizeByClass(trainSet)\n",
    "pred = getPredictions(model, testSet)\n",
    "acc = getAcc(testSet, pred)\n",
    "print(\"Accuracy is %d%%\" % acc)"
   ]
  },
  {
   "cell_type": "markdown",
   "metadata": {},
   "source": [
    "## 3. sklearn实现"
   ]
  },
  {
   "cell_type": "code",
   "execution_count": 82,
   "metadata": {},
   "outputs": [
    {
     "name": "stdout",
     "output_type": "stream",
     "text": [
      "trainSet has 142 data\n",
      "testSet has 36 data\n",
      "Accaracy is 91%\n"
     ]
    }
   ],
   "source": [
    "import csv\n",
    "import numpy as np\n",
    "from sklearn.model_selection import train_test_split\n",
    "from sklearn.naive_bayes import GaussianNB\n",
    "\n",
    "def loadCsv(filename):\n",
    "    \"\"\"读取数据并将所有数据转换成float型\n",
    "    return:\n",
    "        dataset -- 二维数组，shape=(size, feature)\n",
    "    \"\"\"\n",
    "    \n",
    "    lines = csv.reader(open(filename, \"rt\")) # 每一行都是字符串组成列表\n",
    "    dataset = list(lines)\n",
    "    for i in range(len(dataset)):\n",
    "        dataset[i] = [ float(x) for x in dataset[i] ]\n",
    "    return dataset\n",
    "\n",
    "filename = \"wine.csv\"\n",
    "dataset = np.array(loadCsv(filename))\n",
    "x = dataset[:, 1:]\n",
    "y = dataset[:, 0]\n",
    "radio = 0.8\n",
    "x_train, x_test, y_train, y_test = train_test_split(x, y, test_size=0.2, random_state=0)\n",
    "print(\"trainSet has %d data\\ntestSet has %d data\" %(x_train.shape[0], x_test.shape[0]))\n",
    "clf = GaussianNB()\n",
    "clf.fit(x_train, y_train)\n",
    "pred = clf.predict(x_test)\n",
    "print(\"Accaracy is %d%%\" % (100*clf.score(x_test, y_test)))"
   ]
  },
  {
   "cell_type": "code",
   "execution_count": 85,
   "metadata": {},
   "outputs": [
    {
     "name": "stdout",
     "output_type": "stream",
     "text": [
      "每个类的先验概率: \n",
      " [0.31690141 0.38732394 0.29577465]\n",
      "每个类包含的训练数据: \n",
      " [45. 55. 42.]\n",
      "每个类每个特征的均值: \n",
      " [[1.37246667e+01 2.03088889e+00 2.45066667e+00 1.69111111e+01\n",
      "  1.05133333e+02 2.83311111e+00 3.00066667e+00 2.85777778e-01\n",
      "  1.93933333e+00 5.49644444e+00 1.06844444e+00 3.17688889e+00\n",
      "  1.10460000e+03]\n",
      " [1.22656364e+01 1.90800000e+00 2.24127273e+00 2.03145455e+01\n",
      "  9.59090909e+01 2.21309091e+00 1.97963636e+00 3.56181818e-01\n",
      "  1.66563636e+00 2.93181818e+00 1.05974545e+00 2.79654545e+00\n",
      "  5.27800000e+02]\n",
      " [1.31340476e+01 3.34714286e+00 2.44166667e+00 2.13928571e+01\n",
      "  1.00071429e+02 1.70285714e+00 7.82619048e-01 4.56428571e-01\n",
      "  1.17095238e+00 7.32928569e+00 6.90714286e-01 1.67809524e+00\n",
      "  6.35119048e+02]]\n",
      "每个类每个特征的方差: \n",
      " [[1.96885413e-01 4.82993067e-01 5.35245243e-02 7.15841262e+00\n",
      "  9.79823139e+01 1.25886401e-01 1.61240080e-01 4.60047490e-03\n",
      "  1.69715635e-01 1.59395455e+00 1.23936601e-02 1.38841956e-01\n",
      "  4.68123734e+04]\n",
      " [3.21981685e-01 8.38954908e-01 9.04154701e-02 1.15540619e+01\n",
      "  3.17282736e+02 2.60265718e-01 3.03226049e-01 1.45843296e-02\n",
      "  3.88112594e-01 5.44891966e-01 4.08536797e-02 2.17412429e-01\n",
      "  2.69506692e+04]\n",
      " [2.68944300e-01 1.20305966e+00 3.49483814e-02 5.36361204e+00\n",
      "  1.11018799e+02 1.15535853e-01 8.12109665e-02 1.58574517e-02\n",
      "  1.70719300e-01 5.31769815e+00 1.30030299e-02 6.35546739e-02\n",
      "  1.19898669e+04]]\n"
     ]
    }
   ],
   "source": [
    "print(\"每个类的先验概率: \\n\", clf.class_prior_)\n",
    "print(\"每个类包含的训练数据: \\n\", clf.class_count_)\n",
    "print(\"每个类每个特征的均值: \\n\", clf.theta_)\n",
    "print(\"每个类每个特征的方差: \\n\", clf.sigma_)"
   ]
  }
 ],
 "metadata": {
  "kernelspec": {
   "display_name": "Python 3",
   "language": "python",
   "name": "python3"
  },
  "language_info": {
   "codemirror_mode": {
    "name": "ipython",
    "version": 3
   },
   "file_extension": ".py",
   "mimetype": "text/x-python",
   "name": "python",
   "nbconvert_exporter": "python",
   "pygments_lexer": "ipython3",
   "version": "3.6.6"
  }
 },
 "nbformat": 4,
 "nbformat_minor": 2
}
